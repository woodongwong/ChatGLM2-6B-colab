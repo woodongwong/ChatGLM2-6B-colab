{
  "nbformat": 4,
  "nbformat_minor": 0,
  "metadata": {
    "colab": {
      "provenance": [],
      "collapsed_sections": [
        "yX_IB7EmjJE6"
      ],
      "gpuType": "T4",
      "authorship_tag": "ABX9TyOolrS6k7BhNKwFPvuQkteI",
      "include_colab_link": true
    },
    "kernelspec": {
      "name": "python3",
      "display_name": "Python 3"
    },
    "language_info": {
      "name": "python"
    },
    "accelerator": "GPU"
  },
  "cells": [
    {
      "cell_type": "markdown",
      "metadata": {
        "id": "view-in-github",
        "colab_type": "text"
      },
      "source": [
        "<a href=\"https://colab.research.google.com/github/woodongwong/ChatGLM2-6B-colab/blob/main/ChatGLM2_6B.ipynb\" target=\"_parent\"><img src=\"https://colab.research.google.com/assets/colab-badge.svg\" alt=\"Open In Colab\"/></a>"
      ]
    },
    {
      "cell_type": "markdown",
      "source": [
        "#### Install dependencies."
      ],
      "metadata": {
        "id": "yX_IB7EmjJE6"
      }
    },
    {
      "cell_type": "code",
      "execution_count": null,
      "metadata": {
        "id": "o1EHj5Dpaaj8"
      },
      "outputs": [],
      "source": [
        "!pip install protobuf transformers==4.30.2 cpm_kernels \"torch>=2.0\" gradio mdtex2html sentencepiece accelerate"
      ]
    },
    {
      "cell_type": "markdown",
      "source": [
        "#### Loading model.\n",
        "\n",
        "Free Colab plan can only use **`THUDM/chatglm2-6b-int4`** model due to limited memory.\n",
        "\n",
        "Due to the use of CUDA, please select `GPU` for hardware accelerator."
      ],
      "metadata": {
        "id": "LeDOuuL3i_sX"
      }
    },
    {
      "cell_type": "code",
      "source": [
        "from transformers import AutoModel, AutoTokenizer\n",
        "import gradio as gr\n",
        "import mdtex2html\n",
        "\n",
        "tokenizer = AutoTokenizer.from_pretrained(\"THUDM/chatglm2-6b-int4\", trust_remote_code=True)\n",
        "model = AutoModel.from_pretrained(\"THUDM/chatglm2-6b-int4\", trust_remote_code=True).cuda()\n",
        "model = model.eval()"
      ],
      "metadata": {
        "id": "GuxbG3_Pa25s"
      },
      "execution_count": null,
      "outputs": []
    },
    {
      "cell_type": "markdown",
      "source": [
        "#### Define some functions."
      ],
      "metadata": {
        "id": "M2HB5YUPjosN"
      }
    },
    {
      "cell_type": "code",
      "source": [
        "def postprocess(self, y):\n",
        "    if y is None:\n",
        "        return []\n",
        "    for i, (message, response) in enumerate(y):\n",
        "        y[i] = (\n",
        "            None if message is None else mdtex2html.convert((message)),\n",
        "            None if response is None else mdtex2html.convert(response),\n",
        "        )\n",
        "    return y\n",
        "\n",
        "\n",
        "gr.Chatbot.postprocess = postprocess\n",
        "\n",
        "\n",
        "def parse_text(text):\n",
        "    \"\"\"copy from https://github.com/GaiZhenbiao/ChuanhuChatGPT/\"\"\"\n",
        "    lines = text.split(\"\\n\")\n",
        "    lines = [line for line in lines if line != \"\"]\n",
        "    count = 0\n",
        "    for i, line in enumerate(lines):\n",
        "        if \"```\" in line:\n",
        "            count += 1\n",
        "            items = line.split('`')\n",
        "            if count % 2 == 1:\n",
        "                lines[i] = f'<pre><code class=\"language-{items[-1]}\">'\n",
        "            else:\n",
        "                lines[i] = f'<br></code></pre>'\n",
        "        else:\n",
        "            if i > 0:\n",
        "                if count % 2 == 1:\n",
        "                    line = line.replace(\"`\", \"\\`\")\n",
        "                    line = line.replace(\"<\", \"&lt;\")\n",
        "                    line = line.replace(\">\", \"&gt;\")\n",
        "                    line = line.replace(\" \", \"&nbsp;\")\n",
        "                    line = line.replace(\"*\", \"&ast;\")\n",
        "                    line = line.replace(\"_\", \"&lowbar;\")\n",
        "                    line = line.replace(\"-\", \"&#45;\")\n",
        "                    line = line.replace(\".\", \"&#46;\")\n",
        "                    line = line.replace(\"!\", \"&#33;\")\n",
        "                    line = line.replace(\"(\", \"&#40;\")\n",
        "                    line = line.replace(\")\", \"&#41;\")\n",
        "                    line = line.replace(\"$\", \"&#36;\")\n",
        "                lines[i] = \"<br>\"+line\n",
        "    text = \"\".join(lines)\n",
        "    return text\n",
        "\n",
        "\n",
        "def predict(input, chatbot, max_length, top_p, temperature, history, past_key_values):\n",
        "    chatbot.append((parse_text(input), \"\"))\n",
        "    for response, history, past_key_values in model.stream_chat(tokenizer, input, history, past_key_values=past_key_values,\n",
        "                                                                return_past_key_values=True,\n",
        "                                                                max_length=max_length, top_p=top_p,\n",
        "                                                                temperature=temperature):\n",
        "        chatbot[-1] = (parse_text(input), parse_text(response))\n",
        "\n",
        "        yield chatbot, history, past_key_values\n",
        "\n",
        "\n",
        "def reset_user_input():\n",
        "    return gr.update(value='')\n",
        "\n",
        "\n",
        "def reset_state():\n",
        "    return [], [], None"
      ],
      "metadata": {
        "id": "2tn9W9SFbVbh"
      },
      "execution_count": null,
      "outputs": []
    },
    {
      "cell_type": "markdown",
      "source": [
        "#### Run"
      ],
      "metadata": {
        "id": "CmgcLJAEkccS"
      }
    },
    {
      "cell_type": "code",
      "source": [
        "with gr.Blocks() as demo:\n",
        "    gr.HTML(\"\"\"<h1 align=\"center\">ChatGLM2-6B</h1>\"\"\")\n",
        "\n",
        "    chatbot = gr.Chatbot()\n",
        "    with gr.Row():\n",
        "        with gr.Column(scale=4):\n",
        "            with gr.Column(scale=12):\n",
        "                user_input = gr.Textbox(show_label=False, placeholder=\"Input...\", lines=10, container=False)\n",
        "            with gr.Column(min_width=32, scale=1):\n",
        "                submitBtn = gr.Button(\"Submit\", variant=\"primary\")\n",
        "        with gr.Column(scale=1):\n",
        "            emptyBtn = gr.Button(\"Clear History\")\n",
        "            max_length = gr.Slider(0, 32768, value=8192, step=1.0, label=\"Maximum length\", interactive=True)\n",
        "            top_p = gr.Slider(0, 1, value=0.8, step=0.01, label=\"Top P\", interactive=True)\n",
        "            temperature = gr.Slider(0, 1, value=0.95, step=0.01, label=\"Temperature\", interactive=True)\n",
        "\n",
        "    history = gr.State([])\n",
        "    past_key_values = gr.State(None)\n",
        "\n",
        "    submitBtn.click(predict, [user_input, chatbot, max_length, top_p, temperature, history, past_key_values],\n",
        "                    [chatbot, history, past_key_values], show_progress=True)\n",
        "    submitBtn.click(reset_user_input, [], [user_input])\n",
        "\n",
        "    emptyBtn.click(reset_state, outputs=[chatbot, history, past_key_values], show_progress=True)\n",
        "\n",
        "demo.queue().launch(debug=True, share=True)"
      ],
      "metadata": {
        "id": "BgO5K3j6baer"
      },
      "execution_count": null,
      "outputs": []
    }
  ]
}